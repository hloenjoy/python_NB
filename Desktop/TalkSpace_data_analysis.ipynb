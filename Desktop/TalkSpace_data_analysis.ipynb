{
  "nbformat": 4,
  "nbformat_minor": 0,
  "metadata": {
    "colab": {
      "provenance": []
    },
    "kernelspec": {
      "name": "python3",
      "display_name": "Python 3"
    },
    "language_info": {
      "name": "python"
    }
  },
  "cells": [
    {
      "cell_type": "code",
      "source": [
        "#QUESTION 1:\n",
        "\n",
        "#CREATE TABLE provider_licenses\n",
        "CREATE TABLE provider_licenses (\n",
        "    provider_id INT,\n",
        "    states_of_license VARCHAR(100)\n",
        ");\n",
        "\n",
        "#Step 2: Insert Data\n",
        "INSERT INTO provider_licenses (provider_id, states_of_license) VALUES\n",
        "(321, 'NY, CA, FL'),\n",
        "(5433, 'NY, CA'),\n",
        "(31276, 'FL, CA'),\n",
        "(43, 'DL'),\n",
        "(543, 'DL'),\n",
        "(432, 'TX'),\n",
        "(54932, 'TX');\n",
        "\n",
        "\n",
        "\n",
        "#TO FLATTEN THE DATA INTO ROWS\n",
        "\n",
        "WITH Split AS (\n",
        "    SELECT\n",
        "        provider_id,\n",
        "        TRIM(SPLIT_PART(states_of_license, ',', 1)) AS state_of_license,\n",
        "        1 AS num_order\n",
        "    FROM provider_licenses\n",
        "\n",
        "UNION ALL\n",
        "    SELECT\n",
        "        provider_id,\n",
        "        TRIM(SPLIT_PART(states_of_license, ',', 2)) AS state_of_license,\n",
        "        2 AS num_order\n",
        "    FROM provider_licenses\n",
        "    WHERE SPLIT_PART(states_of_license, ',', 2) <> ''\n",
        "\n",
        "UNION ALL\n",
        "    SELECT\n",
        "        provider_id,\n",
        "        TRIM(SPLIT_PART(states_of_license, ',', 3)) AS state_of_license,\n",
        "        3 AS num_order\n",
        "    FROM provider_licenses\n",
        "    WHERE SPLIT_PART(states_of_license, ',', 3) <> ''\n",
        ")\n",
        "SELECT provider_id, state_of_license\n",
        "FROM Split\n",
        "order by 1,2\n",
        "\n",
        "\n"
      ],
      "metadata": {
        "id": "W9S6gB-aqLQN"
      },
      "execution_count": null,
      "outputs": []
    },
    {
      "cell_type": "code",
      "source": [
        "#QUESTION 2: WRITE SQL QUERY GENERATES  A MATRIX of Co-licenses following:\n",
        "#NOTE THIS IS CONNECTED TO PREVIOUS FLATTEN CTE (Split)\n",
        "\n",
        "\n",
        "\n",
        "SELECT\n",
        "    state_1,\n",
        "    SUM(CASE WHEN state_2 = 'CA' THEN cnt ELSE 0 END) AS CA,\n",
        "    SUM(CASE WHEN state_2 = 'DL' THEN cnt ELSE 0 END) AS DL,\n",
        "    SUM(CASE WHEN state_2 = 'FL' THEN cnt ELSE 0 END) AS FL,\n",
        "    SUM(CASE WHEN state_2 = 'NY' THEN cnt ELSE 0 END) AS NY,\n",
        "    SUM(CASE WHEN state_2 = 'TX' THEN cnt ELSE 0 END) AS TX\n",
        "FROM (\n",
        "\n",
        " SELECT\n",
        "        a.state_of_license AS state_1,\n",
        "        b.state_of_license AS state_2,\n",
        "        COUNT(DISTINCT a.provider_id) AS cnt\n",
        "    FROM\n",
        "        Split a\n",
        "    JOIN\n",
        "        Split b\n",
        "    ON\n",
        "        a.provider_id = b.provider_id\n",
        "    GROUP BY\n",
        "        1, 2\n",
        ") AS CoLicenseMatrix\n",
        "GROUP BY 1\n",
        "ORDER BY 1;"
      ],
      "metadata": {
        "id": "dgXa7jSUqLLw"
      },
      "execution_count": null,
      "outputs": []
    },
    {
      "cell_type": "code",
      "source": [],
      "metadata": {
        "id": "hNUgRFtvqLG_"
      },
      "execution_count": null,
      "outputs": []
    },
    {
      "cell_type": "code",
      "source": [
        "#QUESTION 3: GIVEN A TABLE L(i,j) to determine how many providers exist in the network\n",
        "\n",
        "\n",
        "import pandas as pd\n",
        "\n",
        "# Co-license matrix data\n",
        "data = {\n",
        "    'CA': [3, 0, 2, 2, 0],\n",
        "    'DL': [0, 2, 0, 0, 0],\n",
        "    'FL': [2, 0, 2, 1, 0],\n",
        "    'NY': [2, 0, 1, 2, 0],\n",
        "    'TX': [0, 0, 0, 0, 2]\n",
        "}\n",
        "index = ['CA', 'DL', 'FL', 'NY', 'TX']\n",
        "df = pd.DataFrame(data, index=index)\n",
        "\n",
        "\n",
        "\n",
        "unique_providers = set()\n",
        "\n",
        "\n",
        "for i, state1 in enumerate(df.index):\n",
        "    for j, state2 in enumerate(df.columns):\n",
        "        count = df.iat[i, j]\n",
        "        if count > 0:\n",
        "            for k in range(count):\n",
        "              #if only licensed in one state, we add just one state\n",
        "                if i == j:\n",
        "                    unique_providers.add((state1,))\n",
        "              #otherwise add two states sorted\n",
        "                else:\n",
        "                    unique_providers.add(tuple(sorted([state1, state2])))\n",
        "\n",
        "print(f\"Number of unique providers: {len(unique_providers)}\")\n"
      ],
      "metadata": {
        "colab": {
          "base_uri": "https://localhost:8080/"
        },
        "id": "olI9OrQlqLBo",
        "outputId": "bb995408-6e33-4c2c-ee26-1c6f61c3f563"
      },
      "execution_count": null,
      "outputs": [
        {
          "output_type": "stream",
          "name": "stdout",
          "text": [
            "Number of unique providers: 8\n"
          ]
        }
      ]
    },
    {
      "cell_type": "code",
      "source": [],
      "metadata": {
        "id": "Dv5Y2ofwqK91"
      },
      "execution_count": null,
      "outputs": []
    },
    {
      "cell_type": "code",
      "source": [
        "#QUESTION 4: Calculate the maximum number of clients that the network can accept in each state. Write down assumptions\n",
        "#Providers maybe listed in multiple states\n",
        "#We need to merge two dataframes (Capacity) AND (State_licenses) on provider_id\n",
        "\n",
        "\n",
        "capacity = {\n",
        "    \"provider_id\": [321, 5433, 31276, 43, 543, 432, 54932],\n",
        "    \"max_client_capacity\": [30, 40, 40, 20, 10, 50, 30]\n",
        "}\n",
        "\n",
        "# Data from the second table\n",
        "state_licenses = {\n",
        "    \"provider_id\": [321, 321, 321, 5433, 5433, 31276, 31276, 43, 543, 432, 54932],\n",
        "    \"state_of_license\": [\"CA\", \"FL\", \"NY\", \"CA\", \"NY\", \"CA\", \"FL\", \"DL\", \"DL\", \"TX\", \"TX\"]\n",
        "}\n",
        "\n",
        "# Create DataFrames for capacity and state licenses\n",
        "df_capacity = pd.DataFrame(capacity)\n",
        "df_state_licenses = pd.DataFrame(state_licenses)\n",
        "\n",
        "# JOIN DataFrames on provider_id\n",
        "df_merged = pd.merge(df_state_licenses, df_capacity, on=\"provider_id\")\n",
        "\n",
        "# Group by state and calculate sum of max_client_capacity\n",
        "df_state_capacity = df_merged.groupby(\"state_of_license\")[\"max_client_capacity\"].sum().reset_index()\n",
        "\n",
        "print(df_state_capacity)\n",
        "\n",
        "#MAX CAPACITY CA: 110, DL:30, FL: 70, NY:70, and TX:80"
      ],
      "metadata": {
        "id": "P1Kjn7FHqK6S",
        "colab": {
          "base_uri": "https://localhost:8080/"
        },
        "outputId": "d4837d8d-aa6b-41fb-c4ec-e45c5592c1e0"
      },
      "execution_count": null,
      "outputs": [
        {
          "output_type": "stream",
          "name": "stdout",
          "text": [
            "  state_of_license  max_client_capacity\n",
            "0               CA                  110\n",
            "1               DL                   30\n",
            "2               FL                   70\n",
            "3               NY                   70\n",
            "4               TX                   80\n"
          ]
        }
      ]
    },
    {
      "cell_type": "code",
      "source": [
        "\n"
      ],
      "metadata": {
        "id": "5Twt7YAVqKzF"
      },
      "execution_count": null,
      "outputs": []
    },
    {
      "cell_type": "code",
      "source": [
        "#QUESTION 5:\n",
        "import pandas as pd\n",
        "import numpy as np\n",
        "\n",
        "# INPUT data\n",
        "data = {\n",
        "    'State': ['NY', 'CA', 'FL', 'DL', 'TX'],\n",
        "    'Projected number of clients': [400, 350, 300, 425, 600],\n",
        "    'Current number of clients': [350, 250, 100, 400, 550],\n",
        "    'Current avg. max provider capacity': [40, 50, 30, 30, 20]\n",
        "}\n",
        "\n",
        "# Convert the data into a DataFrame\n",
        "df = pd.DataFrame(data)\n",
        "\n",
        "#Calculate the deficit between Projects and Current Number\n",
        "df['Client Deficit'] = df['Projected number of clients'] - df['Current number of clients']\n",
        "\n",
        "#Divide the Client Deficit by Avg Max provider capacity - ROUND AND CONVERT TO INTEGER GIVEN WE care about # of providers\n",
        "df['Additional Providers Needed'] = np.ceil(df['Client Deficit'] / df['Current avg. max provider capacity']).astype(int)\n",
        "\n",
        "print(df[['State', 'Client Deficit', 'Additional Providers Needed']])"
      ],
      "metadata": {
        "colab": {
          "base_uri": "https://localhost:8080/"
        },
        "id": "l1BVWpoTqKvi",
        "outputId": "1e432eb2-ed5b-4984-ec8e-6a81bf5a15f8"
      },
      "execution_count": null,
      "outputs": [
        {
          "output_type": "stream",
          "name": "stdout",
          "text": [
            "  State  Client Deficit  Additional Providers Needed\n",
            "0    NY              50                            2\n",
            "1    CA             100                            2\n",
            "2    FL             200                            7\n",
            "3    DL              25                            1\n",
            "4    TX              50                            3\n"
          ]
        }
      ]
    },
    {
      "cell_type": "code",
      "source": [
        "\n",
        "#QUESTION 6:\n",
        "\n",
        "import pandas as pd\n",
        "import numpy as np\n",
        "\n",
        "# Data Included + Added Growth Rates by State\n",
        "\n",
        "data = {\n",
        "    'State': ['NY', 'CA', 'FL', 'DL', 'TX'],\n",
        "    'Projected number of clients': [400, 350, 300, 425, 600],\n",
        "    'Current number of clients': [350, 250, 100, 400, 550],\n",
        "    'Current avg. max provider capacity': [40, 50, 30, 30, 20],\n",
        "    'Monthly growth rate': [0.01, 0.02, 0.02, 0.03, 0.01]\n",
        "}\n",
        "\n",
        "df = pd.DataFrame(data)\n",
        "\n",
        "# Define the number of months to project growth (e.g., 12 months for a year)\n",
        "# Calculate adjusted projected # of clients given the growth rates\n",
        "months = 12\n",
        "df['Adjusted Projected Clients'] = df['Projected number of clients'] * ((1 + df['Monthly growth rate']) ** months)\n",
        "\n",
        "# Calculate the client deficit updated\n",
        "df['Client Deficit Updated'] = df['Adjusted Projected Clients'] - df['Current number of clients']\n",
        "\n",
        "# Calculate additional providers needed\n",
        "df['Additional Providers Needed'] = np.ceil(df['Client Deficit Updated'] / df['Current avg. max provider capacity']).astype(int)\n",
        "\n",
        "#Print Results\n",
        "print(df[['State', 'Client Deficit Updated', 'Additional Providers Needed']])\n",
        "\n",
        "#COMPARED TO SOLUTION 5:\n",
        "\n",
        "#NY 2 -> 3\n",
        "#CA 2 -> 4\n",
        "#FL 7 -> 10\n",
        "#DL 1 -> 7\n",
        "#TX 3 -> 7\n"
      ],
      "metadata": {
        "colab": {
          "base_uri": "https://localhost:8080/"
        },
        "id": "GUaLnaDOqKr_",
        "outputId": "083318f1-bd67-4b9a-e3c9-6893f07b02c7"
      },
      "execution_count": null,
      "outputs": [
        {
          "output_type": "stream",
          "name": "stdout",
          "text": [
            "  State  Client Deficit Updated  Additional Providers Needed\n",
            "0    NY              100.730012                            3\n",
            "1    CA              193.884628                            4\n",
            "2    FL              280.472538                           10\n",
            "3    DL              205.948377                            7\n",
            "4    TX              126.095018                            7\n"
          ]
        }
      ]
    },
    {
      "cell_type": "code",
      "source": [],
      "metadata": {
        "id": "MeyR7PNKqKoY"
      },
      "execution_count": null,
      "outputs": []
    },
    {
      "cell_type": "code",
      "source": [],
      "metadata": {
        "id": "cb2t_UwZqKke"
      },
      "execution_count": null,
      "outputs": []
    },
    {
      "cell_type": "code",
      "source": [],
      "metadata": {
        "id": "gkfY-SnTqKbt"
      },
      "execution_count": null,
      "outputs": []
    },
    {
      "cell_type": "code",
      "execution_count": null,
      "metadata": {
        "id": "NlCwgduy6EV-"
      },
      "outputs": [],
      "source": []
    },
    {
      "cell_type": "code",
      "source": [],
      "metadata": {
        "id": "xg1SzcFPqIeA"
      },
      "execution_count": null,
      "outputs": []
    },
    {
      "cell_type": "code",
      "source": [],
      "metadata": {
        "id": "sniXmOM0qJFb"
      },
      "execution_count": null,
      "outputs": []
    },
    {
      "cell_type": "code",
      "source": [
        "\n"
      ],
      "metadata": {
        "id": "5TvN4DXY9fPd"
      },
      "execution_count": null,
      "outputs": []
    },
    {
      "cell_type": "code",
      "source": [],
      "metadata": {
        "id": "9Bd2yMbmBuAn"
      },
      "execution_count": null,
      "outputs": []
    },
    {
      "cell_type": "code",
      "source": [],
      "metadata": {
        "id": "swzZBS8NBuHF"
      },
      "execution_count": null,
      "outputs": []
    },
    {
      "cell_type": "code",
      "source": [],
      "metadata": {
        "id": "jPPk2OeBBuKK"
      },
      "execution_count": null,
      "outputs": []
    }
  ]
}